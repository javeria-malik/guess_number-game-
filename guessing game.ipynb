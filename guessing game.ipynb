{
 "cells": [
  {
   "cell_type": "code",
   "execution_count": 7,
   "id": "a2926569",
   "metadata": {},
   "outputs": [
    {
     "name": "stdout",
     "output_type": "stream",
     "text": [
      "Guess a number between 1 and 100: 76\n",
      "Too low!\n",
      "Guess a number between 1 and 100: 09\n",
      "Too low!\n",
      "Guess a number between 1 and 100: 65\n",
      "Too low!\n",
      "81\n"
     ]
    }
   ],
   "source": [
    "import random\n",
    "\n",
    "def guessing_game():\n",
    "    target_number = random.randint(1, 100)  # Generate a random number between 1 and 100\n",
    "    attempts = 0\n",
    "    while attempts<3:\n",
    "        guess = int(input(\"Guess a number between 1 and 100: \"))\n",
    "        attempts += 1\n",
    "        if guess < target_number:\n",
    "            print(\"Too low!\")\n",
    "        elif guess > target_number:\n",
    "            print(\"Too high!\")\n",
    "        else:\n",
    "            print(f\"Congratulations! You guessed the number in {attempts} attempts!\")\n",
    "            break\n",
    "    print(target_number)\n",
    "guessing_game()"
   ]
  },
  {
   "cell_type": "code",
   "execution_count": null,
   "id": "122ee55b",
   "metadata": {},
   "outputs": [],
   "source": []
  }
 ],
 "metadata": {
  "kernelspec": {
   "display_name": "Python 3",
   "language": "python",
   "name": "python3"
  },
  "language_info": {
   "codemirror_mode": {
    "name": "ipython",
    "version": 3
   },
   "file_extension": ".py",
   "mimetype": "text/x-python",
   "name": "python",
   "nbconvert_exporter": "python",
   "pygments_lexer": "ipython3",
   "version": "3.8.8"
  }
 },
 "nbformat": 4,
 "nbformat_minor": 5
}
